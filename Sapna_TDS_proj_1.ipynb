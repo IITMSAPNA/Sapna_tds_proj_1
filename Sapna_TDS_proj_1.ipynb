{
  "cells": [
    {
      "cell_type": "code",
      "execution_count": 3,
      "metadata": {
        "colab": {
          "base_uri": "https://localhost:8080/",
          "height": 73
        },
        "id": "TIGRZ70rz4oy",
        "outputId": "09223866-bb2a-4733-9b84-f15ad7059ade"
      },
      "outputs": [
        {
          "data": {
            "text/html": [
              "\n",
              "     <input type=\"file\" id=\"files-594a8ea6-cdb0-4987-82cb-b3a9272fa239\" name=\"files[]\" multiple disabled\n",
              "        style=\"border:none\" />\n",
              "     <output id=\"result-594a8ea6-cdb0-4987-82cb-b3a9272fa239\">\n",
              "      Upload widget is only available when the cell has been executed in the\n",
              "      current browser session. Please rerun this cell to enable.\n",
              "      </output>\n",
              "      <script>// Copyright 2017 Google LLC\n",
              "//\n",
              "// Licensed under the Apache License, Version 2.0 (the \"License\");\n",
              "// you may not use this file except in compliance with the License.\n",
              "// You may obtain a copy of the License at\n",
              "//\n",
              "//      http://www.apache.org/licenses/LICENSE-2.0\n",
              "//\n",
              "// Unless required by applicable law or agreed to in writing, software\n",
              "// distributed under the License is distributed on an \"AS IS\" BASIS,\n",
              "// WITHOUT WARRANTIES OR CONDITIONS OF ANY KIND, either express or implied.\n",
              "// See the License for the specific language governing permissions and\n",
              "// limitations under the License.\n",
              "\n",
              "/**\n",
              " * @fileoverview Helpers for google.colab Python module.\n",
              " */\n",
              "(function(scope) {\n",
              "function span(text, styleAttributes = {}) {\n",
              "  const element = document.createElement('span');\n",
              "  element.textContent = text;\n",
              "  for (const key of Object.keys(styleAttributes)) {\n",
              "    element.style[key] = styleAttributes[key];\n",
              "  }\n",
              "  return element;\n",
              "}\n",
              "\n",
              "// Max number of bytes which will be uploaded at a time.\n",
              "const MAX_PAYLOAD_SIZE = 100 * 1024;\n",
              "\n",
              "function _uploadFiles(inputId, outputId) {\n",
              "  const steps = uploadFilesStep(inputId, outputId);\n",
              "  const outputElement = document.getElementById(outputId);\n",
              "  // Cache steps on the outputElement to make it available for the next call\n",
              "  // to uploadFilesContinue from Python.\n",
              "  outputElement.steps = steps;\n",
              "\n",
              "  return _uploadFilesContinue(outputId);\n",
              "}\n",
              "\n",
              "// This is roughly an async generator (not supported in the browser yet),\n",
              "// where there are multiple asynchronous steps and the Python side is going\n",
              "// to poll for completion of each step.\n",
              "// This uses a Promise to block the python side on completion of each step,\n",
              "// then passes the result of the previous step as the input to the next step.\n",
              "function _uploadFilesContinue(outputId) {\n",
              "  const outputElement = document.getElementById(outputId);\n",
              "  const steps = outputElement.steps;\n",
              "\n",
              "  const next = steps.next(outputElement.lastPromiseValue);\n",
              "  return Promise.resolve(next.value.promise).then((value) => {\n",
              "    // Cache the last promise value to make it available to the next\n",
              "    // step of the generator.\n",
              "    outputElement.lastPromiseValue = value;\n",
              "    return next.value.response;\n",
              "  });\n",
              "}\n",
              "\n",
              "/**\n",
              " * Generator function which is called between each async step of the upload\n",
              " * process.\n",
              " * @param {string} inputId Element ID of the input file picker element.\n",
              " * @param {string} outputId Element ID of the output display.\n",
              " * @return {!Iterable<!Object>} Iterable of next steps.\n",
              " */\n",
              "function* uploadFilesStep(inputId, outputId) {\n",
              "  const inputElement = document.getElementById(inputId);\n",
              "  inputElement.disabled = false;\n",
              "\n",
              "  const outputElement = document.getElementById(outputId);\n",
              "  outputElement.innerHTML = '';\n",
              "\n",
              "  const pickedPromise = new Promise((resolve) => {\n",
              "    inputElement.addEventListener('change', (e) => {\n",
              "      resolve(e.target.files);\n",
              "    });\n",
              "  });\n",
              "\n",
              "  const cancel = document.createElement('button');\n",
              "  inputElement.parentElement.appendChild(cancel);\n",
              "  cancel.textContent = 'Cancel upload';\n",
              "  const cancelPromise = new Promise((resolve) => {\n",
              "    cancel.onclick = () => {\n",
              "      resolve(null);\n",
              "    };\n",
              "  });\n",
              "\n",
              "  // Wait for the user to pick the files.\n",
              "  const files = yield {\n",
              "    promise: Promise.race([pickedPromise, cancelPromise]),\n",
              "    response: {\n",
              "      action: 'starting',\n",
              "    }\n",
              "  };\n",
              "\n",
              "  cancel.remove();\n",
              "\n",
              "  // Disable the input element since further picks are not allowed.\n",
              "  inputElement.disabled = true;\n",
              "\n",
              "  if (!files) {\n",
              "    return {\n",
              "      response: {\n",
              "        action: 'complete',\n",
              "      }\n",
              "    };\n",
              "  }\n",
              "\n",
              "  for (const file of files) {\n",
              "    const li = document.createElement('li');\n",
              "    li.append(span(file.name, {fontWeight: 'bold'}));\n",
              "    li.append(span(\n",
              "        `(${file.type || 'n/a'}) - ${file.size} bytes, ` +\n",
              "        `last modified: ${\n",
              "            file.lastModifiedDate ? file.lastModifiedDate.toLocaleDateString() :\n",
              "                                    'n/a'} - `));\n",
              "    const percent = span('0% done');\n",
              "    li.appendChild(percent);\n",
              "\n",
              "    outputElement.appendChild(li);\n",
              "\n",
              "    const fileDataPromise = new Promise((resolve) => {\n",
              "      const reader = new FileReader();\n",
              "      reader.onload = (e) => {\n",
              "        resolve(e.target.result);\n",
              "      };\n",
              "      reader.readAsArrayBuffer(file);\n",
              "    });\n",
              "    // Wait for the data to be ready.\n",
              "    let fileData = yield {\n",
              "      promise: fileDataPromise,\n",
              "      response: {\n",
              "        action: 'continue',\n",
              "      }\n",
              "    };\n",
              "\n",
              "    // Use a chunked sending to avoid message size limits. See b/62115660.\n",
              "    let position = 0;\n",
              "    do {\n",
              "      const length = Math.min(fileData.byteLength - position, MAX_PAYLOAD_SIZE);\n",
              "      const chunk = new Uint8Array(fileData, position, length);\n",
              "      position += length;\n",
              "\n",
              "      const base64 = btoa(String.fromCharCode.apply(null, chunk));\n",
              "      yield {\n",
              "        response: {\n",
              "          action: 'append',\n",
              "          file: file.name,\n",
              "          data: base64,\n",
              "        },\n",
              "      };\n",
              "\n",
              "      let percentDone = fileData.byteLength === 0 ?\n",
              "          100 :\n",
              "          Math.round((position / fileData.byteLength) * 100);\n",
              "      percent.textContent = `${percentDone}% done`;\n",
              "\n",
              "    } while (position < fileData.byteLength);\n",
              "  }\n",
              "\n",
              "  // All done.\n",
              "  yield {\n",
              "    response: {\n",
              "      action: 'complete',\n",
              "    }\n",
              "  };\n",
              "}\n",
              "\n",
              "scope.google = scope.google || {};\n",
              "scope.google.colab = scope.google.colab || {};\n",
              "scope.google.colab._files = {\n",
              "  _uploadFiles,\n",
              "  _uploadFilesContinue,\n",
              "};\n",
              "})(self);\n",
              "</script> "
            ],
            "text/plain": [
              "<IPython.core.display.HTML object>"
            ]
          },
          "metadata": {},
          "output_type": "display_data"
        },
        {
          "name": "stdout",
          "output_type": "stream",
          "text": [
            "Saving users.csv to users (1).csv\n"
          ]
        }
      ],
      "source": [
        "from google.colab import files\n",
        "\n",
        "uploaded = files.upload()"
      ]
    },
    {
      "cell_type": "code",
      "execution_count": 5,
      "metadata": {
        "colab": {
          "base_uri": "https://localhost:8080/"
        },
        "id": "q8LHet4T04Gs",
        "outputId": "eb966913-b9d7-42f1-ab0b-3cd7274c572f"
      },
      "outputs": [
        {
          "name": "stdout",
          "output_type": "stream",
          "text": [
            "AlexGyver,carlcastanas,sergeyshaykhullin,alexey-goloburdin,richardroberti\n"
          ]
        }
      ],
      "source": [
        "# Question 1:find Who are the top 5 users with the highest number of followers? List their login in order, comma-separated.\n",
        "\n",
        "import pandas as pd\n",
        "\n",
        "# Assuming 'users.csv' is in the current working directory\n",
        "df_users = pd.read_csv('users.csv')\n",
        "\n",
        "# Sort users by followers in descending order\n",
        "df_sorted = df_users.sort_values('followers', ascending=False)\n",
        "\n",
        "# Get the top 5 users\n",
        "top_5_users = df_sorted.head(5)['login'].tolist()\n",
        "\n",
        "# Print the logins in comma-separated format\n",
        "print(','.join(top_5_users))"
      ]
    },
    {
      "cell_type": "code",
      "execution_count": 6,
      "metadata": {
        "colab": {
          "base_uri": "https://localhost:8080/"
        },
        "id": "PZ1mjSv893Fi",
        "outputId": "e0cbd5ce-5771-4096-c00b-d5b9b1d87f40"
      },
      "outputs": [
        {
          "name": "stdout",
          "output_type": "stream",
          "text": [
            "maxlapshin,veged,alexeyr,alec-c4,alno\n"
          ]
        }
      ],
      "source": [
        "#2. Who are the 5 earliest registered GitHub users ? List their login in ascending order of created_at, comma-separated.\n",
        "\n",
        "# Assuming 'users.csv' is in the current working directory\n",
        "df_users = pd.read_csv('users.csv')\n",
        "\n",
        "# Convert 'created_at' to datetime objects for proper sorting\n",
        "df_users['created_at'] = pd.to_datetime(df_users['created_at'])\n",
        "\n",
        "# Sort users by 'created_at' in ascending order\n",
        "df_sorted = df_users.sort_values('created_at')\n",
        "\n",
        "# Get the logins of the 5 earliest registered users\n",
        "earliest_5_users = df_sorted.head(5)['login'].tolist()\n",
        "\n",
        "# Print the logins in comma-separated format\n",
        "print(','.join(earliest_5_users))"
      ]
    },
    {
      "cell_type": "code",
      "execution_count": 7,
      "metadata": {
        "colab": {
          "base_uri": "https://localhost:8080/"
        },
        "id": "HeEvJUcz_Sei",
        "outputId": "2936ace4-3251-4aa8-816c-894ffabfe8d2"
      },
      "outputs": [
        {
          "name": "stdout",
          "output_type": "stream",
          "text": [
            "mit,other,apache-2.0\n"
          ]
        }
      ],
      "source": [
        "# 3.What are the 3 most popular license among these users? Ignore missing licenses. List the license_name in order, comma-separated.\n",
        "\n",
        "import pandas as pd\n",
        "\n",
        "# Assuming 'repositories.csv' is in the current working directory\n",
        "df_repos = pd.read_csv('repositories.csv')\n",
        "\n",
        "# Remove rows with missing licenses\n",
        "df_repos = df_repos.dropna(subset=['license_name'])\n",
        "\n",
        "# Count the occurrences of each license\n",
        "license_counts = df_repos['license_name'].value_counts()\n",
        "\n",
        "# Get the top 3 most popular licenses\n",
        "top_3_licenses = license_counts.head(3).index.tolist()\n",
        "\n",
        "# Print the license names in comma-separated format\n",
        "print(','.join(top_3_licenses))"
      ]
    },
    {
      "cell_type": "code",
      "execution_count": 8,
      "metadata": {
        "colab": {
          "base_uri": "https://localhost:8080/",
          "height": 35
        },
        "id": "ddKbCfCB_teu",
        "outputId": "3a88ef3b-6ed8-4ee5-e557-feea33c087da"
      },
      "outputs": [
        {
          "data": {
            "application/vnd.google.colaboratory.intrinsic+json": {
              "type": "string"
            },
            "text/plain": [
              "'YANDEX'"
            ]
          },
          "execution_count": 8,
          "metadata": {},
          "output_type": "execute_result"
        }
      ],
      "source": [
        "# 4.use users.csv and find Which company do the majority of these developers work at?\n",
        "\n",
        "# Assuming 'users.csv' is in the current working directory\n",
        "df_users = pd.read_csv('users.csv')\n",
        "\n",
        "# Count the occurrences of each company\n",
        "company_counts = df_users['company'].value_counts()\n",
        "\n",
        "# Get the company with the maximum count\n",
        "most_frequent_company = company_counts.idxmax()\n",
        "\n",
        "most_frequent_company"
      ]
    },
    {
      "cell_type": "code",
      "execution_count": 9,
      "metadata": {
        "colab": {
          "base_uri": "https://localhost:8080/",
          "height": 35
        },
        "id": "N0Bu-0bZ_5gt",
        "outputId": "efc275ee-e586-484a-a21c-34a10661ad14"
      },
      "outputs": [
        {
          "data": {
            "application/vnd.google.colaboratory.intrinsic+json": {
              "type": "string"
            },
            "text/plain": [
              "'JavaScript'"
            ]
          },
          "execution_count": 9,
          "metadata": {},
          "output_type": "execute_result"
        }
      ],
      "source": [
        "# 5.find Which programming language is most popular among these users?\n",
        "\n",
        "# Assuming 'repositories.csv' is in the current working directory\n",
        "df_repos = pd.read_csv('repositories.csv')\n",
        "\n",
        "# Count the occurrences of each programming language\n",
        "language_counts = df_repos['language'].value_counts()\n",
        "\n",
        "# Get the most popular programming language\n",
        "most_popular_language = language_counts.idxmax()\n",
        "\n",
        "most_popular_language"
      ]
    },
    {
      "cell_type": "code",
      "execution_count": 10,
      "metadata": {
        "colab": {
          "base_uri": "https://localhost:8080/",
          "height": 35
        },
        "id": "gJ0-LfipAF5x",
        "outputId": "152fc43d-72b1-474e-e8d1-5737d38ac95c"
      },
      "outputs": [
        {
          "data": {
            "application/vnd.google.colaboratory.intrinsic+json": {
              "type": "string"
            },
            "text/plain": [
              "'Python'"
            ]
          },
          "execution_count": 10,
          "metadata": {},
          "output_type": "execute_result"
        }
      ],
      "source": [
        "# 6.find Which programming language is the second most popular among users who joined after 2020?\n",
        "# users_after_2020 = users[users['created_at'] > '2020-01-01']\n",
        "# users_after_2020.head()\n",
        "# repos_2020 = repos[repos['login'].isin(users_after_2020['login'].tolist())]\n",
        "# repos_2020['language'].value_counts().head()\n",
        "\n",
        "# Assuming 'users.csv' and 'repositories.csv' are in the current working directory\n",
        "df_users = pd.read_csv('users.csv')\n",
        "df_repos = pd.read_csv('repositories.csv')\n",
        "\n",
        "# Convert 'created_at' to datetime objects for proper filtering\n",
        "df_users['created_at'] = pd.to_datetime(df_users['created_at'])\n",
        "\n",
        "# Filter users who joined after 2020\n",
        "users_after_2020 = df_users[df_users['created_at'] > '2020-01-01']\n",
        "\n",
        "# Filter repositories for users who joined after 2020\n",
        "repos_2020 = df_repos[df_repos['login'].isin(users_after_2020['login'].tolist())]\n",
        "\n",
        "# Count the occurrences of each programming language among these users\n",
        "language_counts = repos_2020['language'].value_counts()\n",
        "\n",
        "# Get the second most popular programming language\n",
        "second_most_popular_language = language_counts.index[1] if len(language_counts) > 1 else None\n",
        "\n",
        "second_most_popular_language"
      ]
    },
    {
      "cell_type": "code",
      "execution_count": 11,
      "metadata": {
        "colab": {
          "base_uri": "https://localhost:8080/",
          "height": 35
        },
        "id": "rkuXE-s_A8Gj",
        "outputId": "3bf9c729-62fd-4db4-e843-235a50d85959"
      },
      "outputs": [
        {
          "data": {
            "application/vnd.google.colaboratory.intrinsic+json": {
              "type": "string"
            },
            "text/plain": [
              "'Pascal'"
            ]
          },
          "execution_count": 11,
          "metadata": {},
          "output_type": "execute_result"
        }
      ],
      "source": [
        "# 7. Which language has the highest average number of stars per repository?\n",
        "\n",
        "# Assuming 'repositories.csv' is in the current working directory\n",
        "df_repos = pd.read_csv('repositories.csv')\n",
        "\n",
        "# Group by language and calculate the average stargazers_count\n",
        "language_avg_stars = df_repos.groupby('language')['stargazers_count'].mean()\n",
        "\n",
        "# Find the language with the highest average stargazers_count\n",
        "highest_avg_stars_language = language_avg_stars.idxmax()\n",
        "\n",
        "highest_avg_stars_language"
      ]
    },
    {
      "cell_type": "code",
      "execution_count": 12,
      "metadata": {
        "colab": {
          "base_uri": "https://localhost:8080/"
        },
        "id": "HdfJgqSbBOx_",
        "outputId": "4cfd7f64-9736-4ad5-d8a5-1db7e04a8b7c"
      },
      "outputs": [
        {
          "name": "stdout",
          "output_type": "stream",
          "text": [
            "AlexGyver,alexey-goloburdin,yandex,esokolov,yandexdataschool\n"
          ]
        }
      ],
      "source": [
        "#8. Let's define leader_strength as followers / (1 + following). Who are the top 5 in terms of leader_strength? List their login in order, comma-separated.\n",
        "\n",
        "# Assuming 'users.csv' is in the current working directory\n",
        "df_users = pd.read_csv('users.csv')\n",
        "\n",
        "# Calculate leader_strength\n",
        "df_users['leader_strength'] = df_users['followers'] / (1 + df_users['following'])\n",
        "\n",
        "# Sort users by leader_strength in descending order\n",
        "df_sorted = df_users.sort_values('leader_strength', ascending=False)\n",
        "\n",
        "# Get the top 5 users\n",
        "top_5_users = df_sorted.head(5)['login'].tolist()\n",
        "\n",
        "# Print the logins in comma-separated format\n",
        "print(','.join(top_5_users))"
      ]
    },
    {
      "cell_type": "code",
      "execution_count": 17,
      "metadata": {
        "colab": {
          "base_uri": "https://localhost:8080/"
        },
        "id": "0mAM4HXEBOsW",
        "outputId": "f0f3b026-62b3-48af-e7f6-4bdd21ce216d"
      },
      "outputs": [
        {
          "data": {
            "text/plain": [
              "0.05136912470252247"
            ]
          },
          "execution_count": 17,
          "metadata": {},
          "output_type": "execute_result"
        }
      ],
      "source": [
        "#9. What is the correlation between the number of followers and the number of public repositories among users\n",
        "\n",
        "# Assuming 'users.csv' is in the current working directory\n",
        "df_users = pd.read_csv('users.csv')\n",
        "\n",
        "# Calculate the correlation between followers and public repositories\n",
        "correlation = df_users['followers'].corr(df_users['public_repos'])\n",
        "\n",
        "correlation"
      ]
    },
    {
      "cell_type": "code",
      "execution_count": 29,
      "metadata": {
        "colab": {
          "base_uri": "https://localhost:8080/"
        },
        "id": "DNiE385PCnoa",
        "outputId": "209af697-ee0f-4bde-ccaf-13682e072ced"
      },
      "outputs": [
        {
          "name": "stdout",
          "output_type": "stream",
          "text": [
            "Estimated additional followers per additional public repository: 0.21010141904390528\n"
          ]
        }
      ],
      "source": [
        "# 10. Does creating more repos help users get more followers? Using regression, estimate how many additional followers a user gets per additional public repository.\n",
        "\n",
        "import pandas as pd\n",
        "from sklearn.linear_model import LinearRegression\n",
        "\n",
        "# Assuming 'users.csv' is in the current working directory\n",
        "df_users = pd.read_csv('users.csv')\n",
        "\n",
        "# Create a linear regression model\n",
        "model = LinearRegression()\n",
        "\n",
        "# Fit the model using followers as the dependent variable and public_repos as the independent variable\n",
        "X = df_users[['public_repos']]\n",
        "y = df_users['followers']\n",
        "model.fit(X, y)\n",
        "\n",
        "# Get the coefficient of the independent variable (public_repos)\n",
        "coefficient = model.coef_[0]\n",
        "\n",
        "print(f\"Estimated additional followers per additional public repository: {coefficient}\")"
      ]
    },
    {
      "cell_type": "code",
      "execution_count": 28,
      "metadata": {
        "colab": {
          "base_uri": "https://localhost:8080/"
        },
        "id": "iOnq4tH3CyAs",
        "outputId": "d5f329da-85be-4207-9101-878a57a077cf"
      },
      "outputs": [
        {
          "name": "stdout",
          "output_type": "stream",
          "text": [
            "0.362\n"
          ]
        }
      ],
      "source": [
        "# 11.Do people typically enable projects and wikis together? What is the correlation between a repo having projects enabled and having wiki enabled?\n",
        "# Assuming 'repositories.csv' is in the current working directory\n",
        "repos = pd.read_csv('repositories.csv')\n",
        "\n",
        "if repos['has_projects'].dtype == 'object':\n",
        "    repos['has_projects'] = repos['has_projects'].map({'true': True, 'false': False})\n",
        "if repos['has_wiki'].dtype == 'object':\n",
        "    repos['has_wiki'] = repos['has_wiki'].map({'true': True, 'false': False})\n",
        "\n",
        "correlation = repos['has_projects'].corr(repos['has_wiki'])\n",
        "print(round(correlation, 3))"
      ]
    },
    {
      "cell_type": "code",
      "execution_count": 20,
      "metadata": {
        "colab": {
          "base_uri": "https://localhost:8080/",
          "height": 141
        },
        "id": "4oCc7pXzGamS",
        "outputId": "2aadb3a5-bb5c-48a0-8864-e0ca4f481c20"
      },
      "outputs": [
        {
          "ename": "TypeError",
          "evalue": "list indices must be integers or slices, not str",
          "output_type": "error",
          "traceback": [
            "\u001b[0;31m---------------------------------------------------------------------------\u001b[0m",
            "\u001b[0;31mTypeError\u001b[0m                                 Traceback (most recent call last)",
            "\u001b[0;32m<ipython-input-20-6ea7a0647cbf>\u001b[0m in \u001b[0;36m<cell line: 1>\u001b[0;34m()\u001b[0m\n\u001b[0;32m----> 1\u001b[0;31m \u001b[0musers\u001b[0m\u001b[0;34m[\u001b[0m\u001b[0;34m'hireable'\u001b[0m\u001b[0;34m]\u001b[0m \u001b[0;34m=\u001b[0m \u001b[0musers\u001b[0m\u001b[0;34m[\u001b[0m\u001b[0;34m'hireable'\u001b[0m\u001b[0;34m]\u001b[0m\u001b[0;34m.\u001b[0m\u001b[0mfillna\u001b[0m\u001b[0;34m(\u001b[0m\u001b[0;32mFalse\u001b[0m\u001b[0;34m)\u001b[0m\u001b[0;34m.\u001b[0m\u001b[0mastype\u001b[0m\u001b[0;34m(\u001b[0m\u001b[0mbool\u001b[0m\u001b[0;34m)\u001b[0m\u001b[0;34m\u001b[0m\u001b[0;34m\u001b[0m\u001b[0m\n\u001b[0m",
            "\u001b[0;31mTypeError\u001b[0m: list indices must be integers or slices, not str"
          ]
        }
      ],
      "source": [
        "users['hireable'] = users['hireable'].fillna(False).astype(bool)"
      ]
    },
    {
      "cell_type": "code",
      "execution_count": 27,
      "metadata": {
        "colab": {
          "base_uri": "https://localhost:8080/"
        },
        "id": "J5_OoBdKDqsN",
        "outputId": "27d79605-828d-457d-e84e-d688a01f1fda"
      },
      "outputs": [
        {
          "name": "stdout",
          "output_type": "stream",
          "text": [
            "Difference in average following: -29.046716879996296\n"
          ]
        }
      ],
      "source": [
        "# 12. Do hireable users follow more people than those who are not hireable?\n",
        "# Average of following per user for hireable=true minus the average following for the rest\n",
        "\n",
        "# Assuming 'users.csv' is in the current working directory\n",
        "df_users = pd.read_csv('users.csv')\n",
        "\n",
        "# Calculate the average following for hireable users\n",
        "avg_following_hireable = df_users[df_users['hireable'] == True]['following'].mean()\n",
        "\n",
        "# Calculate the average following for non-hireable users\n",
        "avg_following_non_hireable = df_users[df_users['hireable'] == False]['following'].mean()\n",
        "\n",
        "# Calculate the difference\n",
        "difference = avg_following_hireable - avg_following_non_hireable\n",
        "\n",
        "print(f\"Difference in average following: {difference}\")"
      ]
    },
    {
      "cell_type": "code",
      "execution_count": 26,
      "metadata": {
        "colab": {
          "base_uri": "https://localhost:8080/"
        },
        "id": "OGCjwOcMJf7J",
        "outputId": "715362bc-314b-4da7-a41b-1957face4642"
      },
      "outputs": [
        {
          "data": {
            "text/plain": [
              "0.5224411964399909"
            ]
          },
          "execution_count": 26,
          "metadata": {},
          "output_type": "execute_result"
        }
      ],
      "source": [
        "# 13.Some developers write long bios. Does that help them get more followers? What's the correlation of the word count of their bio (in Unicode words, split by whitespace) with followers? (Ignore people without bios)\n",
        "\n",
        "import pandas as pd\n",
        "from sklearn.linear_model import LinearRegression\n",
        "\n",
        "# Assuming 'users.csv' is in the current working directory\n",
        "df_users = pd.read_csv('users.csv')\n",
        "\n",
        "users_with_bio = df_users[(df_users['bio'].notna()) & (df_users['bio'] != '')].copy()\n",
        "users_with_bio.loc[:, 'bio_len'] = users_with_bio['bio'].str.split().str.len()\n",
        "\n",
        "X = users_with_bio['bio_len'].values.reshape(-1, 1)\n",
        "y = users_with_bio['followers']\n",
        "\n",
        "lr2 = LinearRegression()\n",
        "lr2.fit(X, y)\n",
        "\n",
        "lr2.coef_[0]"
      ]
    },
    {
      "cell_type": "code",
      "execution_count": 25,
      "metadata": {
        "colab": {
          "base_uri": "https://localhost:8080/"
        },
        "id": "VpqDYgGZMj9-",
        "outputId": "8ddac9f8-44c1-4b3c-8a2b-631fbed68ef7"
      },
      "outputs": [
        {
          "name": "stdout",
          "output_type": "stream",
          "text": [
            "40ants,coagulant,deepfire,hightemp,kuggaa\n"
          ]
        }
      ],
      "source": [
        "# 14. Who created the most repositories on weekends (UTC)? List the top 5 users' login in order, comma-separated\n",
        "\n",
        "# Assuming 'repositories.csv' is in the current working directory\n",
        "df_repos = pd.read_csv('repositories.csv')\n",
        "\n",
        "# Convert 'created_at' to datetime objects\n",
        "df_repos['created_at'] = pd.to_datetime(df_repos['created_at'])\n",
        "\n",
        "# Extract the day of the week (0 = Monday, 6 = Sunday)\n",
        "df_repos['day_of_week'] = df_repos['created_at'].dt.dayofweek\n",
        "\n",
        "# Filter for weekend repositories (Saturday and Sunday)\n",
        "weekend_repos = df_repos[df_repos['day_of_week'].isin([5, 6])]\n",
        "\n",
        "# Count the number of repositories created by each user on weekends\n",
        "user_weekend_repo_counts = weekend_repos.groupby('login')['full_name'].count()\n",
        "\n",
        "# Sort users by the number of weekend repositories in descending order\n",
        "top_5_users = user_weekend_repo_counts.sort_values(ascending=False).head(5).index.tolist()\n",
        "\n",
        "# Print the top 5 users' logins, comma-separated\n",
        "print(','.join(top_5_users))"
      ]
    },
    {
      "cell_type": "code",
      "execution_count": 24,
      "metadata": {
        "colab": {
          "base_uri": "https://localhost:8080/"
        },
        "id": "rYiIj6G4MqvB",
        "outputId": "131a117a-8d57-4e63-fd6c-4f365a631d0d"
      },
      "outputs": [
        {
          "name": "stdout",
          "output_type": "stream",
          "text": [
            "0.189\n"
          ]
        }
      ],
      "source": [
        "# 15. Do people who are hireable share their email addresses more often?\n",
        "# [fraction of users with email when hireable=true] minus [fraction of users with email for the rest] (to 3 decimal places, e.g. 0.123 or -0.123)\n",
        "\n",
        "# Assuming 'users.csv' is in the current working directory\n",
        "df_users = pd.read_csv('users.csv')\n",
        "\n",
        "# Calculate the fraction of users with email when hireable is True\n",
        "hireable_true_with_email = df_users[(df_users['hireable'] == True) & (df_users['email'].notna())].shape[0]\n",
        "hireable_true_total = df_users[df_users['hireable'] == True].shape[0]\n",
        "fraction_hireable_true = hireable_true_with_email / hireable_true_total if hireable_true_total > 0 else 0\n",
        "\n",
        "# Calculate the fraction of users with email when hireable is False or NaN\n",
        "hireable_false_with_email = df_users[(df_users['hireable'] == False) & (df_users['email'].notna())].shape[0]\n",
        "hireable_false_total = df_users[df_users['hireable'] == False].shape[0]\n",
        "fraction_hireable_false = hireable_false_with_email / hireable_false_total if hireable_false_total > 0 else 0\n",
        "\n",
        "\n",
        "# Calculate the difference\n",
        "difference = fraction_hireable_true - fraction_hireable_false\n",
        "\n",
        "print(round(difference, 3))"
      ]
    },
    {
      "cell_type": "code",
      "execution_count": 23,
      "metadata": {
        "colab": {
          "base_uri": "https://localhost:8080/"
        },
        "id": "IfPBW0d8M4Mk",
        "outputId": "74af160c-c484-440f-b27b-243220475437"
      },
      "outputs": [
        {
          "name": "stdout",
          "output_type": "stream",
          "text": [
            "Romanov\n"
          ]
        }
      ],
      "source": [
        "#16.Let's assume that the last word in a user's name is their surname (ignore missing names, trim and split by whitespace.) What's the most common surname? (If there's a tie, list them all, comma-separated, alphabetically)\n",
        "\n",
        "# Assuming 'users.csv' is in the current working directory\n",
        "df_users = pd.read_csv('users.csv')\n",
        "\n",
        "# Clean and extract surnames\n",
        "def get_surname(name):\n",
        "  if isinstance(name, str):\n",
        "    name_parts = name.strip().split()\n",
        "    if name_parts:\n",
        "      return name_parts[-1]\n",
        "  return None\n",
        "\n",
        "df_users['surname'] = df_users['name'].apply(get_surname)\n",
        "\n",
        "# Count surname occurrences\n",
        "surname_counts = df_users['surname'].value_counts()\n",
        "\n",
        "# Find the most common surnames (handling ties)\n",
        "max_count = surname_counts.max()\n",
        "most_common_surnames = surname_counts[surname_counts == max_count].index.tolist()\n",
        "\n",
        "# Sort and print the result\n",
        "print(','.join(sorted(most_common_surnames)))"
      ]
    }
  ],
  "metadata": {
    "colab": {
      "provenance": []
    },
    "kernelspec": {
      "display_name": "Python 3",
      "name": "python3"
    },
    "language_info": {
      "name": "python"
    }
  },
  "nbformat": 4,
  "nbformat_minor": 0
}
